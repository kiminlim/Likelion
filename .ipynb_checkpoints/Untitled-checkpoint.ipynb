{
 "cells": [
  {
   "cell_type": "markdown",
   "metadata": {},
   "source": [
    "멋사 04/04\n"
   ]
  },
  {
   "cell_type": "markdown",
   "metadata": {},
   "source": [
    "# 파이썬 문법"
   ]
  },
  {
   "cell_type": "code",
   "execution_count": 2,
   "metadata": {},
   "outputs": [
    {
     "name": "stdout",
     "output_type": "stream",
     "text": [
      "3\n"
     ]
    }
   ],
   "source": [
    "a = 1\n",
    "b = 2\n",
    "print(a+b)\n"
   ]
  },
  {
   "cell_type": "code",
   "execution_count": null,
   "metadata": {},
   "outputs": [],
   "source": []
  },
  {
   "cell_type": "markdown",
   "metadata": {},
   "source": []
  },
  {
   "cell_type": "code",
   "execution_count": 4,
   "metadata": {},
   "outputs": [
    {
     "name": "stdout",
     "output_type": "stream",
     "text": [
      "13\n",
      "7\n",
      "3\n",
      "30\n",
      "1000\n",
      "1\n"
     ]
    }
   ],
   "source": [
    "# 파이썬에서 연산은\n",
    "# +\n",
    "# -\n",
    "# // (몫)\n",
    "# *\n",
    "# %(나머지)\n",
    "\n",
    "a = 10\n",
    "b = 3\n",
    "\n",
    "print(a+b)\n",
    "print(a-b)\n",
    "print(a//b)\n",
    "print(a*b)\n",
    "print(a**b)\n",
    "print(a%b)"
   ]
  },
  {
   "cell_type": "code",
   "execution_count": 13,
   "metadata": {},
   "outputs": [
    {
     "name": "stdout",
     "output_type": "stream",
     "text": [
      "입력 : 2\n",
      "2\n"
     ]
    }
   ],
   "source": [
    "# 변수 개념\n",
    "변수 = input('입력 : ')\n",
    "a = 'asdg'\n",
    "print(변수)"
   ]
  },
  {
   "cell_type": "markdown",
   "metadata": {},
   "source": [
    "\n",
    "### 자료구조 #\n",
    "는 컨테이너다,,\n",
    "> 컴퓨터가 임시로 기억하는 방법.\n",
    "그중에 리스트,튜플, 딕셔너리가 있는거!\n",
    "\n",
    "* 리스트는 기차라고 생각하면 돼\n",
    " \n"
   ]
  },
  {
   "cell_type": "code",
   "execution_count": 16,
   "metadata": {},
   "outputs": [
    {
     "name": "stdout",
     "output_type": "stream",
     "text": [
      "리스트는 대괄호를 사용합니다\n",
      "[1, 2, 3]\n",
      "1\n",
      "2\n",
      "3\n"
     ]
    }
   ],
   "source": [
    "print('리스트는 대괄호를 사용합니다')\n",
    "\n",
    "list1= [1,2,3]\n",
    "print(list1)\n",
    "for m in list1:\n",
    "    print(m)"
   ]
  },
  {
   "cell_type": "code",
   "execution_count": 41,
   "metadata": {},
   "outputs": [
    {
     "name": "stdout",
     "output_type": "stream",
     "text": [
      "------------------------------\n",
      "[1, 2, 3]\n",
      "2\n",
      "10\n",
      "for 1\n",
      "for 10\n",
      "for 3\n"
     ]
    }
   ],
   "source": [
    "a = [1,2,3]\n",
    "print('-'*30)\n",
    "print(a)\n",
    "\n",
    "print(a[1])\n",
    "a[1] = 10\n",
    "print(a[1])\n",
    "\n",
    "for b in a:\n",
    "    print('for',b)"
   ]
  },
  {
   "cell_type": "code",
   "execution_count": 34,
   "metadata": {},
   "outputs": [
    {
     "name": "stdout",
     "output_type": "stream",
     "text": [
      "2\n",
      "2\n",
      "1\n",
      "2\n"
     ]
    }
   ],
   "source": [
    "import random\n",
    "print(random.choice(list1))\n",
    "print(random.choice(list1))\n",
    "print(random.choice(list1))\n",
    "print(random.choice(list1))\n"
   ]
  },
  {
   "cell_type": "code",
   "execution_count": null,
   "metadata": {},
   "outputs": [],
   "source": [
    "# 튜플 > 순서 바꿀 수 없어. 인덱싱해서 따로 못바꿈\n",
    "a = (1,2,3)\n",
    "print('-'*30)\n",
    "print(a)\n",
    "\n",
    "print(a[1])\n",
    "# a[1] = 10 >> 못바꿔서 오류남\n",
    "print(a[1])\n"
   ]
  },
  {
   "cell_type": "code",
   "execution_count": 51,
   "metadata": {},
   "outputs": [
    {
     "name": "stdout",
     "output_type": "stream",
     "text": [
      "자동차\n",
      "냉장고\n",
      "234\n"
     ]
    }
   ],
   "source": [
    "# 사전\n",
    "# {key:value}\n",
    "dic1 = {1:'자동차', 2:'냉장고', 3:'휴대폰'}\n",
    "dic2 = {1:2,2:3245,3:234}\n",
    "print(dic1[1])\n",
    "print(dic1[2])\n",
    "print(dic2[3])"
   ]
  },
  {
   "cell_type": "code",
   "execution_count": 6,
   "metadata": {},
   "outputs": [
    {
     "name": "stdout",
     "output_type": "stream",
     "text": [
      "{'a': 1, 'b': 2, 'c': 3}\n",
      "key:   a\n",
      "value: 1\n",
      "key:   b\n",
      "value: 2\n",
      "key:   c\n",
      "value: 3\n"
     ]
    }
   ],
   "source": [
    "diction = {'a':1, 'b':2, 'c':3}\n",
    "print(diction)\n",
    "\n",
    "# 사전 포문 돌릴때 키값만 가져옴.\n",
    "for a in diction:\n",
    "    print('key:  ',a)\n",
    "    print('value:',diction[a])"
   ]
  },
  {
   "cell_type": "code",
   "execution_count": 19,
   "metadata": {},
   "outputs": [
    {
     "name": "stdout",
     "output_type": "stream",
     "text": [
      "안 녕 하 세 요 를 끊 어 주 세 요\n",
      "안\n",
      "녕\n",
      "하\n",
      "세\n",
      "요\n",
      "를\n",
      "끊\n",
      "어\n",
      "주\n",
      "세\n",
      "요\n"
     ]
    }
   ],
   "source": [
    "# 리스트, 딕셔너리 활용하기\n",
    "\n",
    "# split 합수\n",
    "# a = [1,2,3,4,5,6,7,8,9,10]\n",
    "# b = a.split(' ')\n",
    "\n",
    "a = '안 녕 하 세 요 를 끊 어 주 세 요'\n",
    "print(a)\n",
    "b = a.split(' ')\n",
    "for i in b:\n",
    "    print(i)"
   ]
  },
  {
   "cell_type": "code",
   "execution_count": 26,
   "metadata": {},
   "outputs": [
    {
     "name": "stdout",
     "output_type": "stream",
     "text": [
      "5\n",
      "4\n",
      "3\n",
      "2\n",
      "1\n",
      "0\n"
     ]
    }
   ],
   "source": [
    "n = int(input())\n",
    "# n\n",
    "# n-1\n",
    "# n-2\n",
    "# ,,,\n",
    "# 2\n",
    "# n-(n-1)=1\n",
    "\n",
    "for i in range(1,n+1):\n",
    "    print(n - i)"
   ]
  },
  {
   "cell_type": "code",
   "execution_count": 30,
   "metadata": {},
   "outputs": [
    {
     "name": "stdout",
     "output_type": "stream",
     "text": [
      "5\n",
      "4\n",
      "3\n",
      "2\n",
      "1\n"
     ]
    }
   ],
   "source": [
    "n = int(input())\n",
    "for i in range(1, n):\n",
    "    print(n-i)"
   ]
  },
  {
   "cell_type": "code",
   "execution_count": null,
   "metadata": {
    "scrolled": true
   },
   "outputs": [],
   "source": [
    "# 설탕배달\n",
    "kg = int(input())\n",
    "5n = kg//5 \n",
    "# kg-5n//3"
   ]
  },
  {
   "cell_type": "code",
   "execution_count": 18,
   "metadata": {},
   "outputs": [
    {
     "name": "stdout",
     "output_type": "stream",
     "text": [
      "5 8 4\n"
     ]
    },
    {
     "data": {
      "text/plain": [
       "['5', '8', '4']"
      ]
     },
     "execution_count": 18,
     "metadata": {},
     "output_type": "execute_result"
    }
   ],
   "source": [
    "n = input()\n",
    "n2 = n.split()\n",
    "\n",
    "\n"
   ]
  },
  {
   "cell_type": "markdown",
   "metadata": {},
   "source": []
  },
  {
   "cell_type": "code",
   "execution_count": 20,
   "metadata": {},
   "outputs": [],
   "source": [
    "import numpy"
   ]
  }
 ],
 "metadata": {
  "kernelspec": {
   "display_name": "Python 3",
   "language": "python",
   "name": "python3"
  },
  "language_info": {
   "codemirror_mode": {
    "name": "ipython",
    "version": 3
   },
   "file_extension": ".py",
   "mimetype": "text/x-python",
   "name": "python",
   "nbconvert_exporter": "python",
   "pygments_lexer": "ipython3",
   "version": "3.7.0"
  }
 },
 "nbformat": 4,
 "nbformat_minor": 2
}
